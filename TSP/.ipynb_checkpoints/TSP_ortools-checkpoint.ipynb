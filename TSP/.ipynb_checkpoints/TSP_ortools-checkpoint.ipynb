{
 "cells": [
  {
   "cell_type": "code",
   "execution_count": 24,
   "id": "a6ff3695-dd2f-439e-b797-e6e78d1444fd",
   "metadata": {},
   "outputs": [
    {
     "name": "stdout",
     "output_type": "stream",
     "text": [
      "0.030863046646118164\n",
      "Objective: 15832 miles\n",
      "Route for vehicle 0:\n",
      " 0 -> 1 -> 2 -> 5 -> 6 -> 28 -> 29 -> 31 -> 30 -> 25 -> 26 -> 23 -> 22 -> 33 -> 32 -> 20 -> 19 -> 21 -> 18 -> 15 -> 13 -> 14 -> 12 -> 17 -> 16 -> 24 -> 27 -> 11 -> 10 -> 7 -> 8 -> 9 -> 4 -> 3 -> 0\n",
      "\n"
     ]
    }
   ],
   "source": [
    "from ortools.constraint_solver import routing_enums_pb2\n",
    "from ortools.constraint_solver import pywrapcp\n",
    "import time\n",
    "df = pd.read_csv('distance_matrix.csv')\n",
    "distance_matrix = np.round(df.values)\n",
    "def create_data_model():\n",
    "    \"\"\"Stores the data for the problem.\"\"\"\n",
    "    data = {}\n",
    "    data[\"distance_matrix\"] = np.round(distance_matrix).astype(int)\n",
    "    data[\"num_vehicles\"] = 1\n",
    "    data[\"depot\"] = 0\n",
    "    return data\n",
    "\n",
    "def get_routes(solution, routing, manager):\n",
    "  \"\"\"Get vehicle routes from a solution and store them in an array.\"\"\"\n",
    "  # Get vehicle routes and store them in a two dimensional array whose\n",
    "  # i,j entry is the jth location visited by vehicle i along its route.\n",
    "  routes = []\n",
    "  for route_nbr in range(routing.vehicles()):\n",
    "    index = routing.Start(route_nbr)\n",
    "    route = [manager.IndexToNode(index)]\n",
    "    while not routing.IsEnd(index):\n",
    "      index = solution.Value(routing.NextVar(index))\n",
    "      route.append(manager.IndexToNode(index))\n",
    "    routes.append(route)\n",
    "  return routes\n",
    "def print_solution(manager, routing, solution):\n",
    "    \"\"\"Prints solution on console.\"\"\"\n",
    "    print(f\"Objective: {solution.ObjectiveValue()} miles\")\n",
    "    index = routing.Start(0)\n",
    "    plan_output = \"Route for vehicle 0:\\n\"\n",
    "    route_distance = 0\n",
    "    while not routing.IsEnd(index):\n",
    "        plan_output += f\" {manager.IndexToNode(index)} ->\"\n",
    "        previous_index = index\n",
    "        index = solution.Value(routing.NextVar(index))\n",
    "        route_distance += routing.GetArcCostForVehicle(previous_index, index, 0)\n",
    "    plan_output += f\" {manager.IndexToNode(index)}\\n\"\n",
    "    print(plan_output)\n",
    "    plan_output += f\"Route distance: {route_distance}miles\\n\"\n",
    "\n",
    "\n",
    "def main():\n",
    "    \"\"\"Entry point of the program.\"\"\"\n",
    "    # Instantiate the data problem.\n",
    "    data = create_data_model()\n",
    "\n",
    "    # Create the routing index manager.\n",
    "    manager = pywrapcp.RoutingIndexManager(\n",
    "         len(data[\"distance_matrix\"]), data[\"num_vehicles\"], data[\"depot\"]\n",
    "    )\n",
    "    # Create Routing Model.\n",
    "    routing = pywrapcp.RoutingModel(manager)\n",
    "\n",
    "\n",
    "    def distance_callback(from_index, to_index):\n",
    "        \"\"\"Returns the distance between the two nodes.\"\"\"\n",
    "        # Convert from routing variable Index to distance matrix NodeIndex.\n",
    "        from_node = manager.IndexToNode(from_index)\n",
    "        to_node = manager.IndexToNode(to_index)\n",
    "        return data[\"distance_matrix\"][from_node][to_node]\n",
    "\n",
    "    transit_callback_index = routing.RegisterTransitCallback(distance_callback)\n",
    "\n",
    "    # Define cost of each arc.\n",
    "    routing.SetArcCostEvaluatorOfAllVehicles(transit_callback_index)\n",
    "\n",
    "    # Setting first solution heuristic.\n",
    "    search_parameters = pywrapcp.DefaultRoutingSearchParameters()\n",
    "    search_parameters.first_solution_strategy = (\n",
    "        routing_enums_pb2.FirstSolutionStrategy.PATH_CHEAPEST_ARC\n",
    "    )\n",
    "\n",
    "    # Solve the problem.\n",
    "    t1 = time.time()\n",
    "    solution = routing.SolveWithParameters(search_parameters)\n",
    "    t2 = time.time()\n",
    "    print(t2-t1)\n",
    "    # Print solution on console.\n",
    "    if solution:\n",
    "        print_solution(manager, routing, solution)\n",
    "    routes = get_routes(solution, routing, manager)\n",
    "    return routes\n",
    "\n",
    "\n",
    "\n",
    "if __name__ == \"__main__\":\n",
    "    route = main()"
   ]
  },
  {
   "cell_type": "code",
   "execution_count": 4,
   "id": "cb8a1e69-e03d-4266-8c7f-82d5e02587bf",
   "metadata": {},
   "outputs": [],
   "source": [
    "df = pd.read_csv('distance_matrix.csv')\n",
    "distance_matrix = np.round(df.values)"
   ]
  },
  {
   "cell_type": "code",
   "execution_count": 17,
   "id": "80a3f70e-27a5-4066-998e-a6704afcb038",
   "metadata": {},
   "outputs": [
    {
     "data": {
      "text/plain": [
       "array([[   0.,  279.,  510., ..., 2907., 2336., 2366.],\n",
       "       [ 279.,    0.,  232., ..., 2997., 2613., 2643.],\n",
       "       [ 510.,  232.,    0., ..., 3056., 2845., 2876.],\n",
       "       ...,\n",
       "       [2907., 2997., 3056., ...,    0., 3416., 3383.],\n",
       "       [2336., 2613., 2845., ..., 3416.,    0.,   64.],\n",
       "       [2366., 2643., 2876., ..., 3383.,   64.,    0.]])"
      ]
     },
     "execution_count": 17,
     "metadata": {},
     "output_type": "execute_result"
    }
   ],
   "source": [
    "np.round(distance_matrix)"
   ]
  },
  {
   "cell_type": "code",
   "execution_count": null,
   "id": "81e334aa-6e2b-48a6-879d-55316feee7d4",
   "metadata": {},
   "outputs": [],
   "source": []
  }
 ],
 "metadata": {
  "kernelspec": {
   "display_name": "Python 3 (ipykernel)",
   "language": "python",
   "name": "python3"
  },
  "language_info": {
   "codemirror_mode": {
    "name": "ipython",
    "version": 3
   },
   "file_extension": ".py",
   "mimetype": "text/x-python",
   "name": "python",
   "nbconvert_exporter": "python",
   "pygments_lexer": "ipython3",
   "version": "3.11.7"
  }
 },
 "nbformat": 4,
 "nbformat_minor": 5
}
