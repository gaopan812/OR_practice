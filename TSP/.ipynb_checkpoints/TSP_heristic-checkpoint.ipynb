{
 "cells": [
  {
   "cell_type": "markdown",
   "id": "53073d8b-4cc8-4505-b419-c62b05f47a8a",
   "metadata": {},
   "source": [
    "## GA"
   ]
  },
  {
   "cell_type": "code",
   "execution_count": 42,
   "id": "c19aa431-e978-4509-af9c-eccd3e39f437",
   "metadata": {},
   "outputs": [],
   "source": [
    "import numpy as np\n",
    "import pandas as pd\n",
    "import time\n",
    "import matplotlib.pyplot as plt"
   ]
  },
  {
   "cell_type": "code",
   "execution_count": 67,
   "id": "3db8b744-a6e2-4763-99fd-c738870ca591",
   "metadata": {},
   "outputs": [
    {
     "name": "stdout",
     "output_type": "stream",
     "text": [
      "[16 20 32 33 22 23 26 25 30 31 29 28 27 24 11 10  8  7  6  5  2  1  0  3\n",
      "  4  9 14 13 15 18 21 19 17 12]\n",
      "best_distance: 16250.0 time cost: 2.1309409141540527\n"
     ]
    },
    {
     "data": {
      "image/png": "[encoded data removed]",
      "text/plain": [
       "<Figure size 640x480 with 1 Axes>"
      ]
     },
     "metadata": {},
     "output_type": "display_data"
    }
   ],
   "source": [
    "df = pd.read_csv('distance_matrix.csv')\n",
    "num_points = 34\n",
    "distance_matrix = np.round(df.values)\n",
    "def cal_total_distance(routine):\n",
    "    '''The objective function. input routine, return total distance.\n",
    "    cal_total_distance(np.arange(num_points))\n",
    "    '''\n",
    "    num_points, = routine.shape\n",
    "    return sum([distance_matrix[routine[i % num_points], routine[(i + 1) % num_points]] for i in range(num_points)])\n",
    "\n",
    "\n",
    "# %% do GA\n",
    "\n",
    "from sko.GA import GA_TSP\n",
    "\n",
    "ga_tsp = GA_TSP(func=cal_total_distance, n_dim=num_points, size_pop=60, max_iter=500, prob_mut=1)\n",
    "time_start = time.time()\n",
    "best_points, best_distance = ga_tsp.run()\n",
    "time_end = time.time()\n",
    "print(best_points)\n",
    "print('best_distance:', best_distance[0], 'time cost:', time_end - time_start)\n",
    "fig, ax = plt.subplots()\n",
    "ax.plot(ga_tsp.generation_best_Y)\n",
    "plt.show()"
   ]
  },
  {
   "cell_type": "code",
   "execution_count": null,
   "id": "d27ee30a-db22-473b-9bf4-91f5bcc44fd6",
   "metadata": {},
   "outputs": [],
   "source": [
    "routine = pd.DataFrame(columns=[\"city\",\"lat\", \"lon\"])\n",
    "df_start = pd.read_csv('cityinfo.csv')\n",
    "\n",
    "for i in range(34):\n",
    "    routine.loc[i] = df_start.loc[best_points[i]]\n",
    "\n",
    "import folium\n",
    "\n",
    "# 创建一个中心位于北京的地图\n",
    "m = folium.Map(location=[39.9042, 116.4074], zoom_start=5)\n",
    "\n",
    "# 假设我们有一个包含城市坐标的数据集\n",
    "cities_data = routine\n",
    "\n",
    "# 添加城市标记\n",
    "for index, row in cities_data.iterrows():\n",
    "    folium.Marker(\n",
    "        location=[row['lat'], row['lon']],\n",
    "        popup=row['city'],\n",
    "        icon=folium.Icon(color='red')\n",
    "    ).add_to(m)\n",
    "\n",
    "# 连接城市\n",
    "temp = cities_data[['lat', 'lon']].values.tolist()\n",
    "locations = np.vstack((temp, temp[0]))\n",
    "folium.PolyLine(locations, color=\"blue\", weight=2.5, opacity=1).add_to(m)\n",
    "\n",
    "m.save('routine_gurobi.html')"
   ]
  }
 ],
 "metadata": {
  "kernelspec": {
   "display_name": "Python 3 (ipykernel)",
   "language": "python",
   "name": "python3"
  },
  "language_info": {
   "codemirror_mode": {
    "name": "ipython",
    "version": 3
   },
   "file_extension": ".py",
   "mimetype": "text/x-python",
   "name": "python",
   "nbconvert_exporter": "python",
   "pygments_lexer": "ipython3",
   "version": "3.11.7"
  }
 },
 "nbformat": 4,
 "nbformat_minor": 5
}
