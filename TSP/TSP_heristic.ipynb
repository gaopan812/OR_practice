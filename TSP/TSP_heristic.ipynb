{
 "cells": [
  {
   "cell_type": "markdown",
   "id": "53073d8b-4cc8-4505-b419-c62b05f47a8a",
   "metadata": {},
   "source": [
    "## GA"
   ]
  },
  {
   "cell_type": "code",
   "execution_count": 42,
   "id": "c19aa431-e978-4509-af9c-eccd3e39f437",
   "metadata": {},
   "outputs": [],
   "source": [
    "import numpy as np\n",
    "import pandas as pd\n",
    "import time\n",
    "import matplotlib.pyplot as plt"
   ]
  },
  {
   "cell_type": "code",
   "execution_count": 61,
   "id": "3db8b744-a6e2-4763-99fd-c738870ca591",
   "metadata": {},
   "outputs": [
    {
     "name": "stdout",
     "output_type": "stream",
     "text": [
      "[11 24 26 25 23 22 33 32 20 16 17 19 21 18 15 13 14 12 10  9  4  0  1  2\n",
      "  3  8  7  5  6 28 29 31 30 27]\n",
      "best_distance: 16026.0 time cost: 1.9048073291778564\n"
     ]
    },
    {
     "data": {
      "image/png": "[encoded data removed]",
      "text/plain": [
       "<Figure size 640x480 with 1 Axes>"
      ]
     },
     "metadata": {},
     "output_type": "display_data"
    }
   ],
   "source": [
    "df = pd.read_csv('distance_matrix.csv')\n",
    "num_points = 34\n",
    "distance_matrix = np.round(df.values)\n",
    "def cal_total_distance(routine):\n",
    "    '''The objective function. input routine, return total distance.\n",
    "    cal_total_distance(np.arange(num_points))\n",
    "    '''\n",
    "    num_points, = routine.shape\n",
    "    return sum([distance_matrix[routine[i % num_points], routine[(i + 1) % num_points]] for i in range(num_points)])\n",
    "\n",
    "\n",
    "# %% do GA\n",
    "\n",
    "from sko.GA import GA_TSP\n",
    "\n",
    "ga_tsp = GA_TSP(func=cal_total_distance, n_dim=num_points, size_pop=50, max_iter=500, prob_mut=1)\n",
    "time_start = time.time()\n",
    "best_points, best_distance = ga_tsp.run()\n",
    "time_end = time.time()\n",
    "print(best_points)\n",
    "print('best_distance:', best_distance[0], 'time cost:', time_end - time_start)\n",
    "fig, ax = plt.subplots()\n",
    "ax.plot(ga_tsp.generation_best_Y)\n",
    "plt.show()"
   ]
  },
  {
   "cell_type": "markdown",
   "id": "a7f4b604-21cf-4e24-8f7e-3701e54b82fe",
   "metadata": {},
   "source": [
    "## OR-tools"
   ]
  },
  {
   "cell_type": "code",
   "execution_count": 3,
   "id": "5ef708ad-2433-414c-9902-dd2de13161aa",
   "metadata": {},
   "outputs": [
    {
     "name": "stdout",
     "output_type": "stream",
     "text": [
      "time: 0.0010027885437011719\n",
      "Objective: 0 miles\n",
      "Route for vehicle 0:\n",
      " 0 -> 33 -> 32 -> 31 -> 30 -> 29 -> 28 -> 27 -> 26 -> 25 -> 24 -> 23 -> 22 -> 21 -> 20 -> 19 -> 18 -> 17 -> 16 -> 15 -> 14 -> 13 -> 12 -> 11 -> 10 -> 9 -> 8 -> 7 -> 6 -> 5 -> 4 -> 3 -> 2 -> 1 -> 0\n",
      "\n"
     ]
    }
   ],
   "source": [
    "\"\"\"Simple Travelling Salesperson Problem (TSP) between cities.\"\"\"\n",
    "import numpy as np\n",
    "from scipy import spatial\n",
    "import time\n",
    "\n",
    "from ortools.constraint_solver import routing_enums_pb2\n",
    "from ortools.constraint_solver import pywrapcp\n",
    "\n",
    "\n",
    "def create_data_model():\n",
    "    \"\"\"Stores the data for the problem.\"\"\"\n",
    "    data = {}\n",
    "    data[\"distance_matrix\"] = distance_matrix.tolist()\n",
    "    data[\"num_vehicles\"] = 1\n",
    "    data[\"depot\"] = 0\n",
    "    return data\n",
    "\n",
    "\n",
    "def print_solution(manager, routing, solution):\n",
    "    \"\"\"Prints solution on console.\"\"\"\n",
    "    print(f\"Objective: {solution.ObjectiveValue()} miles\")\n",
    "    index = routing.Start(0)\n",
    "    plan_output = \"Route for vehicle 0:\\n\"\n",
    "    route_distance = 0\n",
    "    while not routing.IsEnd(index):\n",
    "        plan_output += f\" {manager.IndexToNode(index)} ->\"\n",
    "        previous_index = index\n",
    "        index = solution.Value(routing.NextVar(index))\n",
    "        route_distance += routing.GetArcCostForVehicle(previous_index, index, 0)\n",
    "    plan_output += f\" {manager.IndexToNode(index)}\\n\"\n",
    "    print(plan_output)\n",
    "    plan_output += f\"Route distance: {route_distance}miles\\n\"\n",
    "\n",
    "\n",
    "def main():\n",
    "    \"\"\"Entry point of the program.\"\"\"\n",
    "    # Instantiate the data problem.\n",
    "    data = create_data_model()\n",
    "\n",
    "    # Create the routing index manager.\n",
    "    manager = pywrapcp.RoutingIndexManager(\n",
    "        len(data[\"distance_matrix\"]), data[\"num_vehicles\"], data[\"depot\"]\n",
    "    )\n",
    "\n",
    "    # Create Routing Model.\n",
    "    routing = pywrapcp.RoutingModel(manager)\n",
    "\n",
    "\n",
    "    def distance_callback(from_index, to_index):\n",
    "        \"\"\"Returns the distance between the two nodes.\"\"\"\n",
    "        # Convert from routing variable Index to distance matrix NodeIndex.\n",
    "        from_node = manager.IndexToNode(from_index)\n",
    "        to_node = manager.IndexToNode(to_index)\n",
    "        return data[\"distance_matrix\"][from_node][to_node]\n",
    "\n",
    "    transit_callback_index = routing.RegisterTransitCallback(distance_callback)\n",
    "\n",
    "    # Define cost of each arc.\n",
    "    routing.SetArcCostEvaluatorOfAllVehicles(transit_callback_index)\n",
    "\n",
    "    # Setting first solution heuristic.\n",
    "    search_parameters = pywrapcp.DefaultRoutingSearchParameters()\n",
    "    search_parameters.first_solution_strategy = (\n",
    "        routing_enums_pb2.FirstSolutionStrategy.PATH_CHEAPEST_ARC\n",
    "    )\n",
    "\n",
    "    # Solve the problem.\n",
    "    time_start = time.time()\n",
    "    solution = routing.SolveWithParameters(search_parameters)\n",
    "    time_end = time.time()\n",
    "    print(f\"time: {time_end - time_start}\")\n",
    "\n",
    "    # Print solution on console.\n",
    "    if solution:\n",
    "        print_solution(manager, routing, solution)\n",
    "\n",
    "\n",
    "if __name__ == \"__main__\":\n",
    "    main()"
   ]
  },
  {
   "cell_type": "code",
   "execution_count": 62,
   "id": "0ec32a6d-6668-4b23-9963-d0718314fa18",
   "metadata": {},
   "outputs": [],
   "source": [
    "routine = pd.DataFrame(columns=[\"city\",\"lat\", \"lon\"])\n",
    "df_start = pd.read_csv('cityinfo.csv')\n",
    "\n",
    "for i in range(34):\n",
    "    routine.loc[i] = df_start.loc[best_points[i]]\n",
    "\n",
    "import folium\n",
    "import pandas as pd\n",
    "\n",
    "# 创建一个中心位于北京的地图\n",
    "m = folium.Map(location=[39.9042, 116.4074], zoom_start=5)\n",
    "\n",
    "# 假设我们有一个包含城市坐标的数据集\n",
    "cities_data = routine\n",
    "\n",
    "# 添加城市标记\n",
    "for index, row in cities_data.iterrows():\n",
    "    folium.Marker(\n",
    "        location=[row['lat'], row['lon']],\n",
    "        popup=row['city'],\n",
    "        icon=folium.Icon(color='red')\n",
    "    ).add_to(m)\n",
    "\n",
    "# 连接城市\n",
    "temp = cities_data[['lat', 'lon']].values.tolist()\n",
    "locations = np.vstack((temp, temp[0]))\n",
    "folium.PolyLine(locations, color=\"blue\", weight=2.5, opacity=1).add_to(m)\n",
    "\n",
    "m.save('routine_GA.html')"
   ]
  },
  {
   "cell_type": "code",
   "execution_count": null,
   "id": "8f75dcfa-4a61-4992-807f-31db2d2dfb7a",
   "metadata": {},
   "outputs": [],
   "source": []
  }
 ],
 "metadata": {
  "kernelspec": {
   "display_name": "Python 3 (ipykernel)",
   "language": "python",
   "name": "python3"
  },
  "language_info": {
   "codemirror_mode": {
    "name": "ipython",
    "version": 3
   },
   "file_extension": ".py",
   "mimetype": "text/x-python",
   "name": "python",
   "nbconvert_exporter": "python",
   "pygments_lexer": "ipython3",
   "version": "3.11.7"
  }
 },
 "nbformat": 4,
 "nbformat_minor": 5
}
